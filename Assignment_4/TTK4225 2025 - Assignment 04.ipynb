{
 "cells": [
  {
   "cell_type": "markdown",
   "id": "35f338c6",
   "metadata": {},
   "source": [
    "# TTK4225 Assignment 4"
   ]
  },
  {
   "cell_type": "markdown",
   "id": "ae899632",
   "metadata": {},
   "source": [
    "### Note\n",
    "\n",
    "Some of the points below may be either solved by pen and paper, or by coding.\n",
    "\n",
    "The most important thing in this assignment is to understand the logics behind each procedural step you take. Thus for the teachers it does not matter which way you choose, the important is that you understand what you do."
   ]
  },
  {
   "cell_type": "markdown",
   "id": "92267591",
   "metadata": {},
   "source": [
    "### Question 1\n",
    "\n",
    "Consider the system\n",
    "$$\n",
    "    \\dot{y} = \\alpha y .\n",
    "$$\n",
    "\n",
    "- case 1: for which values of $\\alpha \\in \\mathbb{R}$ are the equilibria of this system unstable? And how many equilibria does this system have in this case?\n",
    "\n",
    "- case 2: for which values of $\\alpha \\in \\mathbb{R}$ are the equilibria of this system simply stable but not asymptotically stable? And how many equilibria does this system have in this case?\n",
    "\n",
    "- case 3: for which values of $\\alpha \\in \\mathbb{R}$ are the equilibria of this system asymptotically stable? And how many equilibria does this system have in this case?\n",
    "\n",
    "Support your analysis with opportune simulations that prove your points."
   ]
  },
  {
   "cell_type": "markdown",
   "id": "d1d3673a",
   "metadata": {},
   "source": [
    "TODO write your solution to Question 1 here (add cells if necessary)"
   ]
  },
  {
   "cell_type": "markdown",
   "id": "066f2fb2",
   "metadata": {},
   "source": [
    "### Question 2\n",
    "\n",
    "Consider the system\n",
    "$$\n",
    "    \\begin{bmatrix}\n",
    "        \\dot{y}_{1} \\\\\n",
    "        \\dot{y}_{2} \\\\\n",
    "    \\end{bmatrix}\n",
    "    =\n",
    "    \\begin{bmatrix}\n",
    "        \\alpha & \\beta \\\\\n",
    "        0 & \\alpha \\\\\n",
    "    \\end{bmatrix}\n",
    "    \\begin{bmatrix}\n",
    "        y_{1} \\\\\n",
    "        y_{2} \\\\\n",
    "    \\end{bmatrix}\n",
    "$$\n",
    "where $\\alpha \\in \\mathbb{R}$ and $\\beta \\in \\{ 0, 1 \\}$.\n",
    "\n",
    "- case 1: for which values of $\\alpha$ and $\\beta$ are the equilibria of this system unstable? And how many equilibria does this system have in this case?\n",
    "\n",
    "- case 2: for which values of $\\alpha$ and $\\beta$ are the equilibria of this system simply stable but not asymptotically stable? And how many equilibria does this system have in this case?\n",
    "\n",
    "- case 3: for which values of $\\alpha$ and $\\beta$ are the equilibria of this system asymptotically stable? And how many equilibria does this system have in this case?\n",
    "\n",
    "Support your analysis with opportune simulations that prove your points."
   ]
  },
  {
   "cell_type": "markdown",
   "id": "7a1d4d6e",
   "metadata": {},
   "source": [
    "TODO write your solution to question 2 here (add cells if necessary)"
   ]
  },
  {
   "cell_type": "markdown",
   "id": "8a18961b",
   "metadata": {},
   "source": [
    "### Question 3\n",
    "\n",
    "Are you able to find situations for which a LTI continuous-time system have an equilibrium that is convergent but unstable? Aid your answer with examples.\n",
    "\n",
    "(Hint: it is sufficient to reason on first order autonomous systems.)"
   ]
  },
  {
   "cell_type": "markdown",
   "id": "d5d03afa",
   "metadata": {},
   "source": [
    "TODO write your solution to question 2 here (add cells if necessary)"
   ]
  }
 ],
 "metadata": {
  "kernelspec": {
   "display_name": "Python [conda env:base] *",
   "language": "python",
   "name": "conda-base-py"
  },
  "language_info": {
   "codemirror_mode": {
    "name": "ipython",
    "version": 3
   },
   "file_extension": ".py",
   "mimetype": "text/x-python",
   "name": "python",
   "nbconvert_exporter": "python",
   "pygments_lexer": "ipython3",
   "version": "3.13.5"
  }
 },
 "nbformat": 4,
 "nbformat_minor": 5
}

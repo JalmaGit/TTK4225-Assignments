{
 "cells": [
  {
   "cell_type": "markdown",
   "id": "5058f580-3a35-41ed-94c1-17576e75c802",
   "metadata": {
    "tags": []
   },
   "source": [
    "# TTK4225 Assignment 1"
   ]
  },
  {
   "cell_type": "markdown",
   "id": "359bbbd4",
   "metadata": {},
   "source": [
    "### Note\n",
    "\n",
    "Some of the points below may be either solved by pen and paper, or -- for who feels brave but also learn something that will be very useful in your theses -- via symbolic computing (e.g., sympy: https://docs.sympy.org/latest/tutorials/intro-tutorial/solvers.html).\n",
    "\n",
    "The most important thing in this assignment is to understand the logics behind each procedural step you take. Thus for the teachers it does not matter which way you choose, the important is that you understand what you do."
   ]
  },
  {
   "cell_type": "markdown",
   "id": "444b6feb",
   "metadata": {},
   "source": [
    "### Introduction\n",
    "\n",
    "Consider the following three systems,\n",
    "\n",
    "* [Mass-spring](https://en.wikipedia.org/wiki/Mass-spring-damper_model),\n",
    "\n",
    "* [Lotka Volterra](https://en.wikipedia.org/wiki/Lotka%E2%80%93Volterra_equations), and\n",
    "\n",
    "* [Van der Pol oscillator](https://en.wikipedia.org/wiki/Van_der_Pol_oscillator),\n",
    "\n",
    "defined through their ODEs as in the links above. In the remainder of the assignment we will analyse them analytically, so to gain intuitions about their properties."
   ]
  },
  {
   "cell_type": "markdown",
   "id": "b6098d37-5ac9-4c02-bc03-de336865a3cc",
   "metadata": {},
   "source": [
    "### Question 1\n",
    "\n",
    "Compute the equilibria of each of these systems as functions of the parameters of their models.\n",
    "\n",
    "* If you are solving this point via pen and paper, then write the procedure you followed to compute the solution in the cell below, using it as a ```markdown``` cell, and the solution itself.\n",
    "* If you are solving this point via symbolic computing, then use the cell below as a ```code``` cell to write the code that computes the solution."
   ]
  },
  {
   "cell_type": "markdown",
   "id": "9669d13c",
   "metadata": {},
   "source": [
    "### Solution to question 1\n",
    "\n",
    "#### Equilibria of the mass spring system:\n",
    "\n",
    "The general ODE for a mass spring system is described by the following,\n",
    "\n",
    "\\begin{gather*}\n",
    "    \\sum F = -kx - c \\dot{x} + F_{external} = m \\ddot{x}\n",
    "\\end{gather*}\n",
    "\n",
    "Since we are solving the system around equilibria, $\\dot{x} = 0$ and $\\ddot{x} = 0$, we get,\n",
    "\n",
    "\\begin{gather*}\n",
    "    - kx + F = 0\n",
    "    \\\\\n",
    "    \\downarrow\n",
    "    \\\\ \n",
    "    x = \\frac{F}{k}\n",
    "\\end{gather*}\n",
    "\n",
    "Without the presence of a constant external force $F$, the equilibria point is $x = 0$ \n",
    "\n",
    "#### Equilibria of the Lotka-Volterra system:\n",
    "\n",
    "The general ODE for a Lotka-Volterra system is described by the following,\n",
    "\n",
    "\\begin{gather*}\n",
    "    \\dot{x} = \\alpha x - \\beta x y\n",
    "    \\\\\n",
    "    \\dot{y} = - \\gamma y + \\zeta x y\n",
    "\\end{gather*}\n",
    "\n",
    "Since we are solving the system around equilibria, $\\dot{x} = 0$, we get,\n",
    "\n",
    "\n",
    "\\begin{gather*}\n",
    "0 = \\alpha x - \\beta x y \\\\\n",
    "0 = - \\gamma y + \\zeta x y \n",
    "\\\\\n",
    "\\downarrow \n",
    "\\\\\n",
    "\\beta x y = \\alpha x \\\\\n",
    "\\gamma y = \\zeta x y \n",
    "\\\\\n",
    "\\downarrow \n",
    "\\\\\n",
    "y = \\frac{\\alpha}{\\beta} \\\\\n",
    "x = \\frac{\\gamma}{\\zeta}\n",
    "\\end{gather*}\n",
    "\n",
    "Which results in orbits, with equilibria point  at $(x,y) = (0,0)$ and $(x,y) = (\\tfrac{\\gamma}{\\zeta},\\tfrac{\\alpha}{\\beta})$\n",
    "\n",
    "\n",
    "#### Equilibria of the Van der Pol system:\n",
    "\n",
    "The general ODE for a mass spring system is described by the following,\n",
    "\n",
    "$$\n",
    "    \\ddot{x} - \\mu (1 - \\dot{x}) + x = 0\n",
    "$$\n",
    "\n",
    "Since we are solving the system around equilibria, $\\dot{x} = 0$ and $\\ddot{x} = 0$, we get,\n",
    "\n",
    "$$\n",
    "    x = 0\n",
    "$$\n"
   ]
  },
  {
   "cell_type": "markdown",
   "id": "7ddeadac-614e-464c-b197-c0f0c3c99dfa",
   "metadata": {},
   "source": [
    "### Question 2\n",
    "\n",
    "Using the cell below as a ```markdown``` cell, describe which of these equilibria are:\n",
    "\n",
    "- simply stable (i.e., for which there are no trajectories that start in a neighborhood of the equilibrium that 'escape' from the equilibrium. Note: simply stable is a synonym for marginally stable),\n",
    "- asymptotically stable (i.e., not just simply stable but also for which the trajectories that start closeby the equilibrium 'end' in the equilibrium),\n",
    "- or unstable (i.e., for which you can find at least one trajectory that seems starting from the equilibrium and 'moving away' from it).\n",
    "\n",
    "Say also why you believe so. Note that the fastest way to solve this question is likely googling \"phase portrait of system XXX\", taking a look at the plots you get, thinking at what these plots mean and imply, and then describe such behaviors."
   ]
  },
  {
   "cell_type": "markdown",
   "id": "f837ce4f",
   "metadata": {},
   "source": [
    "### Solution to question 2\n",
    "\n",
    "#### Description of the stability properties of the equilibria of the mass spring system:\n",
    "\n",
    "The equilibria for the system is asymptopically stable. This because there it is convergent and marginally stable. It is marginally stable because if we assign an $\\varepsilon$, there exists a $\\delta$ where no trijectory leaves the neighbourhood $\\varepsilon$, and convergent because all trijectories converges towards the equilibria.\n",
    "\n",
    "#### Description of the stability properties of the equilibria of the Lotka-Volterra system:\n",
    "\n",
    "The equilibria $(0,0)$ is unstable since there is always trijetories that escapes the neighbourhood $\\varepsilon$, no mater the choice for $\\delta$. The equilibria $(\\tfrac{\\gamma}{\\zeta},\\tfrac{\\alpha}{\\beta})$ is marginally stable because there exists a $\\delta$ where no trijectory leaves the neighbourhood $\\varepsilon$. However it is not convergent because of the existence of stable orbits within the $\\varepsilon$.\n",
    "\n",
    "#### Description of the stability properties of the equilibria of the Van der Pol system:\n",
    "\n",
    "The equilibria $(0,0)$ is unstable because there can exist an $\\varepsilon$ where it is impossible to select an $\\delta$ without escaping trijectoris.\n"
   ]
  },
  {
   "cell_type": "markdown",
   "id": "696b9481-6ba2-4db4-a9d0-ce4967e95263",
   "metadata": {},
   "source": [
    "### Question 3\n",
    "\n",
    "As for the asymptotically stable equilibria, describe their basin of attraction (i.e., which zone of the phase portrait is so that starting from a generic initial condition in that zone makes the system follow a trajectory that converges as time goes to infinity to that equilibrium).\n",
    "\n",
    "Write your answer using the cell below as a ```markdown``` cell.\n",
    "\n",
    "The fastest way to solve this is likely googling \"phase portrait of system XXX\", taking a look at the plots you get, thinking at what these plots mean and imply, and then describe such basins."
   ]
  },
  {
   "cell_type": "markdown",
   "id": "8cd54e93",
   "metadata": {},
   "source": [
    "### Solution to question 3\n",
    "\n",
    "For the given systems, the mass spring system is the only system with assymptotically stable equilibria. Viewing the Phaseportrait for this system shows that the basin of attraction converges for any intial condition, ie the assymtotically stable equilibria is global."
   ]
  },
  {
   "cell_type": "markdown",
   "id": "752dcd10-8e27-42fc-afbe-3d1ce0cfbc5b",
   "metadata": {},
   "source": [
    "### Question 4\n",
    "\n",
    "Think at which physical system has both an **asymptotically** stable equilibrium and an unstable one. Describe such a system, and explain the intuitions you have that make you say that the equilibria have that stability properties.\n",
    "\n",
    "Write your answer using the cell below as a ```markdown``` cell."
   ]
  },
  {
   "cell_type": "markdown",
   "id": "8aab4c1b",
   "metadata": {},
   "source": [
    "### Solution to question 4\n",
    "\n",
    "A system with both a asymptotically stable equilibrirum and and unstable one could be a pendelum with friction. When a pednelum is at the top of the swing curve, with no velocity, it can balance on that point. However, any infinently small pertubations will cause it fall. At the bottom, any perturbation will make the pendulum oscilate with slowly reducing oscilations around the equilibrium point. "
   ]
  },
  {
   "cell_type": "markdown",
   "id": "199c4f13-31ac-470e-95d6-b1a53b65804f",
   "metadata": {},
   "source": [
    "### Question 5\n",
    "\n",
    "How would you modify the system in Question 4 so to make the asymptotically stable equilibrium only simply stable? (Note: simply stable is a synonym for marginally stable).\n",
    "\n",
    "Write your answer using the cell below as a ```markdown``` cell."
   ]
  },
  {
   "cell_type": "markdown",
   "id": "d584868d",
   "metadata": {},
   "source": [
    "### Solution to question 5\n",
    "Removing friction would make the assymptotically stable equilibira marginally stable."
   ]
  },
  {
   "cell_type": "markdown",
   "id": "e764168e-bf79-481d-bfa4-44d6e90f4a8e",
   "metadata": {},
   "source": [
    "### Question 6\n",
    "\n",
    "Use the cell below as a ```markdown``` cell to describe how model predictive control works from intuitive perspectives."
   ]
  },
  {
   "cell_type": "markdown",
   "id": "ccdf47cd",
   "metadata": {},
   "source": [
    "### Solution to question 6\n",
    "\n",
    "Model Predictibe Control (MPC) works by using a known model(states) of a system to predict future states of a system within a set horizion. Then using this knowledge it can apply control outputs that best fits the desired behaviour of said system. For each applied control output, it reasses the future predicted states and corrects the applied control output, this makes it more adaptable to dynamic environments in comparison to LQR. The accurarcy and sensitivity of an MPC can be tuned based on the importance for mainting desired state or control effort."
   ]
  },
  {
   "cell_type": "markdown",
   "id": "34ebc175-293d-461c-a186-47aef03f3535",
   "metadata": {},
   "source": [
    "### Question 7\n",
    "\n",
    "Use the cell below as a ```markdown``` cell to describe what you think the goal of this course is."
   ]
  },
  {
   "cell_type": "markdown",
   "id": "8fed1a18",
   "metadata": {},
   "source": [
    "### Solution to question 7\n",
    "\n",
    "The goal of this course is to give us students the ability to intuitively understand, describe and control a systems behaviour and properties."
   ]
  }
 ],
 "metadata": {
  "kernelspec": {
   "display_name": "General",
   "language": "python",
   "name": "python3"
  },
  "language_info": {
   "codemirror_mode": {
    "name": "ipython",
    "version": 3
   },
   "file_extension": ".py",
   "mimetype": "text/x-python",
   "name": "python",
   "nbconvert_exporter": "python",
   "pygments_lexer": "ipython3",
   "version": "3.13.6"
  }
 },
 "nbformat": 4,
 "nbformat_minor": 5
}

{
 "cells": [
  {
   "cell_type": "markdown",
   "id": "7557a324",
   "metadata": {},
   "source": [
    "# TTK4225 Assignment 5"
   ]
  },
  {
   "cell_type": "markdown",
   "id": "16a1a16c",
   "metadata": {},
   "source": [
    "Some of the points below may be either solved by pen and paper or written in markdown. Submit your assignment as a PDF in blackboard.\n",
    "\n",
    "The most important thing in this assignment is to understand the logics behind each procedural step you take. Thus for the teachers it does not matter which way you choose, the important is that you understand what you do."
   ]
  },
  {
   "cell_type": "markdown",
   "id": "45d049e3",
   "metadata": {},
   "source": [
    "### Question 1\n",
    "\n",
    "Consider an autonomous spring-mass system without friction.\n",
    "\n",
    "a) \n",
    "Write its ODE,\n",
    "\n",
    "\\begin{equation}\n",
    "    \\begin{gathered}\n",
    "        \\sum F = -kx= m\\ddot{x} \n",
    "        \\\\\n",
    "        \\downarrow\n",
    "        \\\\\n",
    "        \\ddot{x} = -\\tfrac{k}{m} x\n",
    "    \\end{gathered}\n",
    "\\end{equation}\n",
    "\n",
    "b) \n",
    "How do mass and spring stiffness affect the oscillation frequency?\n",
    "\n",
    "```\n",
    "Larger mass decreases the frequency, while smaller increases the frequency. Larger spring stiffness increases the frequency, while smaller decreases the frequency\n",
    "```\n",
    "\n",
    "c) \n",
    "Describe how the phase portrait of this system should look like. You may sketch/ draw to aid in your explaination.\n",
    "\n",
    "```\n",
    "Without fricition the system will osciallate around the equlibria with closed orbits. \n",
    "```\n",
    "\n",
    "d)\n",
    "Identify the equilibria of the system. How many are there?\n",
    "\n",
    "```\n",
    "With $\\ddot{x} = 0$, the only equilibria is at (0,0), being marginally stable\n",
    "```\n",
    "\n",
    "e)\n",
    "discuss their stability properties, and if you find that the system has only one equilibrium and that is a marginally stable one, considering the definition of marginal stability based on $\\varepsilon$, $\\delta$ that we saw in class, find what is the largest $\\delta$ that can be considered by taking $\\varepsilon = 1$ (motivating why). A graphical explanation based on the phase portrait plot you shal do in point c above is ok for the purposes of this question.\n",
    "\n",
    "```\n",
    "The largest $\\delta$ needs to be slightly less than $\\varepsilon$, then $\\delta$ is contained within the walls of $\\varepsilon$.\n",
    "```\n",
    "\n"
   ]
  },
  {
   "cell_type": "markdown",
   "id": "82cf4aea",
   "metadata": {},
   "source": [
    "### Answer Question 1 here\n",
    "\n",
    "\n",
    "\n",
    "\n",
    "\n"
   ]
  },
  {
   "cell_type": "markdown",
   "id": "173b3adb",
   "metadata": {},
   "source": [
    "### Question 2\n",
    "\n",
    "Consider then the non-autonomous version of the spring-mass system without friction discussed in Question 1. Discuss whether it is BIBO stable or not; more precisely,\n",
    "\n",
    "a) reason (and thus decide) on the BIBO stability properties of the system by considering the properties of its impulse response;\n",
    "\n",
    "With a bounded step input, the resulting output will be bounded to a set amplitude, with oscillations.\n",
    "\n",
    "b) reason (and thus decide) on the BIBO stability properties of the system by considering the properties of its equilibria;\n",
    "\n",
    "Without an input, there won't be any changes to the position of the system, it stays stable at equlibrium. This that there are no trajectories that escapes the equlibria.\n",
    "\n",
    "c) reason (and thus decide) on the BIBO stability properties of the system by considering whether you can find or not a bounded input that produces an unbounded forced response.\n",
    "\n",
    "There doesn't exist an bounded input for this system that would produce an unbounded forced response, since the system is marginally stable for all size of $\\varepsilon$"
   ]
  },
  {
   "cell_type": "markdown",
   "id": "57f5a81c",
   "metadata": {},
   "source": [
    "### Answer Question 2 here"
   ]
  },
  {
   "cell_type": "markdown",
   "id": "49ea77d2",
   "metadata": {},
   "source": [
    "### Question 3\n",
    "\n",
    "Consider the system\n",
    "$$\n",
    "    \\begin{bmatrix}\n",
    "        \\dot{y}_{1} \\\\\n",
    "        \\dot{y}_{2} \\\\\n",
    "    \\end{bmatrix}\n",
    "    =\n",
    "    \\begin{bmatrix}\n",
    "        \\alpha & \\beta \\\\\n",
    "        0 & \\alpha \\\\\n",
    "    \\end{bmatrix}\n",
    "    \\begin{bmatrix}\n",
    "        y_{1} \\\\\n",
    "        y_{2} \\\\\n",
    "    \\end{bmatrix}\n",
    "    +\n",
    "    \\begin{bmatrix}\n",
    "        0 \\\\\n",
    "        1 \\\\\n",
    "    \\end{bmatrix}\n",
    "    u\n",
    "$$\n",
    "where $\\alpha \\in \\mathbb{R}$ and $\\beta \\in \\{ 0, 1 \\}$ (i.e., $\\beta$ may be either 0 or 1).\n",
    "\n",
    "For which values of $\\alpha$ and $\\beta$ is the system BIBO stable? (Hint: take a look at what you did in Assignment 04.)\n",
    "\n",
    "Support your analysis with derivations that prove your point."
   ]
  },
  {
   "cell_type": "markdown",
   "id": "0ac34351",
   "metadata": {},
   "source": [
    "### Answer Question 3 here"
   ]
  }
 ],
 "metadata": {
  "kernelspec": {
   "display_name": "matte",
   "language": "python",
   "name": "python3"
  },
  "language_info": {
   "name": "python",
   "version": "3.12.2"
  }
 },
 "nbformat": 4,
 "nbformat_minor": 5
}
